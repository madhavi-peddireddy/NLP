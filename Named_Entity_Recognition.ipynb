{
 "cells": [
  {
   "cell_type": "markdown",
   "metadata": {},
   "source": [
    "## Named Entity Recognition"
   ]
  },
  {
   "cell_type": "code",
   "execution_count": 9,
   "metadata": {},
   "outputs": [],
   "source": [
    "sentence=\"\"\" Prime Minister Narendra Modi visits the stall of Jio with Ashwini Vaishnaw, Minister of Railways and Communications along with Mukesh Ambani and Akash Ambani on October 1, 2022.\n",
    "\"\"\""
   ]
  },
  {
   "cell_type": "code",
   "execution_count": 10,
   "metadata": {},
   "outputs": [],
   "source": [
    "import nltk\n",
    "words_1=nltk.word_tokenize(sentence)"
   ]
  },
  {
   "cell_type": "code",
   "execution_count": 11,
   "metadata": {},
   "outputs": [
    {
     "data": {
      "text/plain": [
       "[('Prime', 'NNP'),\n",
       " ('Minister', 'NNP'),\n",
       " ('Narendra', 'NNP'),\n",
       " ('Modi', 'NNP'),\n",
       " ('visits', 'VBZ'),\n",
       " ('the', 'DT'),\n",
       " ('stall', 'NN'),\n",
       " ('of', 'IN'),\n",
       " ('Jio', 'NNP'),\n",
       " ('with', 'IN'),\n",
       " ('Ashwini', 'NNP'),\n",
       " ('Vaishnaw', 'NNP'),\n",
       " (',', ','),\n",
       " ('Minister', 'NNP'),\n",
       " ('of', 'IN'),\n",
       " ('Railways', 'NNP'),\n",
       " ('and', 'CC'),\n",
       " ('Communications', 'NNP'),\n",
       " ('along', 'IN'),\n",
       " ('with', 'IN'),\n",
       " ('Mukesh', 'NNP'),\n",
       " ('Ambani', 'NNP'),\n",
       " ('and', 'CC'),\n",
       " ('Akash', 'NNP'),\n",
       " ('Ambani', 'NNP'),\n",
       " ('on', 'IN'),\n",
       " ('October', 'NNP'),\n",
       " ('1', 'CD'),\n",
       " (',', ','),\n",
       " ('2022', 'CD'),\n",
       " ('.', '.')]"
      ]
     },
     "execution_count": 11,
     "metadata": {},
     "output_type": "execute_result"
    }
   ],
   "source": [
    "tag_element=nltk.pos_tag(words_1)\n",
    "tag_element"
   ]
  },
  {
   "cell_type": "code",
   "execution_count": 12,
   "metadata": {},
   "outputs": [
    {
     "name": "stderr",
     "output_type": "stream",
     "text": [
      "[nltk_data] Downloading package maxent_ne_chunker to\n",
      "[nltk_data]     C:\\Users\\Intel\\AppData\\Roaming\\nltk_data...\n",
      "[nltk_data]   Package maxent_ne_chunker is already up-to-date!\n"
     ]
    },
    {
     "data": {
      "text/plain": [
       "True"
      ]
     },
     "execution_count": 12,
     "metadata": {},
     "output_type": "execute_result"
    }
   ],
   "source": [
    "nltk.download('maxent_ne_chunker')"
   ]
  },
  {
   "cell_type": "code",
   "execution_count": 13,
   "metadata": {},
   "outputs": [
    {
     "name": "stderr",
     "output_type": "stream",
     "text": [
      "[nltk_data] Downloading package words to\n",
      "[nltk_data]     C:\\Users\\Intel\\AppData\\Roaming\\nltk_data...\n",
      "[nltk_data]   Package words is already up-to-date!\n"
     ]
    },
    {
     "data": {
      "text/plain": [
       "True"
      ]
     },
     "execution_count": 13,
     "metadata": {},
     "output_type": "execute_result"
    }
   ],
   "source": [
    "nltk.download('words')"
   ]
  },
  {
   "cell_type": "code",
   "execution_count": 14,
   "metadata": {},
   "outputs": [],
   "source": [
    "\n",
    "# Step 3: Recognize named entities\n",
    "named_entities = nltk.ne_chunk(tag_element)\n",
    "\n",
    "# Step 4: Draw the named entity tree\n",
    "named_entities.draw()"
   ]
  },
  {
   "cell_type": "markdown",
   "metadata": {},
   "source": [
    "sentence=\" Taj Mahal is a beautiful Monument\"\n",
    "# Step 1: Tokenize the sentence\n",
    "tokenized_sentence = nltk.word_tokenize(sentence)\n",
    "\n",
    "# Step 2: Tag the tokens with parts of speech\n",
    "tagged_sentence = nltk.pos_tag(tokenized_sentence)\n",
    "\n",
    "# Step 3: Recognize named entities\n",
    "named_entities = nltk.ne_chunk(tagged_sentence)\n",
    "\n",
    "# Step 4: Draw the named entity tree\n",
    "named_entities.draw()\n"
   ]
  }
 ],
 "metadata": {
  "kernelspec": {
   "display_name": "venv",
   "language": "python",
   "name": "python3"
  },
  "language_info": {
   "codemirror_mode": {
    "name": "ipython",
    "version": 3
   },
   "file_extension": ".py",
   "mimetype": "text/x-python",
   "name": "python",
   "nbconvert_exporter": "python",
   "pygments_lexer": "ipython3",
   "version": "3.11.3"
  }
 },
 "nbformat": 4,
 "nbformat_minor": 2
}
